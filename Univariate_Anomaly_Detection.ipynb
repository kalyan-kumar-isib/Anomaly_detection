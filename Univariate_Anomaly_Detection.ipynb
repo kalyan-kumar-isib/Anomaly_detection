{
 "cells": [
  {
   "cell_type": "markdown",
   "metadata": {},
   "source": [
    "# Problem Statement"
   ]
  },
  {
   "cell_type": "markdown",
   "metadata": {},
   "source": [
    "An **anomaly** ( also known as **outlier**) is an observation that deviates significantly from all the other observations. An anomaly detection system is a system that detects anomalies in the data. "
   ]
  },
  {
   "cell_type": "markdown",
   "metadata": {},
   "source": [
    "Commonly used anomaly detection algorithms\n",
    "- Interquartile Range\n",
    "- Isolation Forest\n",
    "- Median Absolute Deviation\n",
    "- K-Nearest Neighbours\n",
    "\n",
    "These are a few of the many algorithms available."
   ]
  },
  {
   "cell_type": "markdown",
   "metadata": {
    "id": "6JUpq0qQbgVx"
   },
   "source": [
    "# Importing the Data"
   ]
  },
  {
   "cell_type": "code",
   "execution_count": 1,
   "metadata": {
    "id": "jekejaOubG5L"
   },
   "outputs": [],
   "source": [
    "# importing the required libraries\n",
    "\n",
    "import pandas as pd\n",
    "import numpy as np\n",
    "import matplotlib.pyplot as plt\n",
    "import seaborn as sb\n",
    "\n",
    "from sklearn.ensemble import IsolationForest\n",
    "from pyod.models.mad import MAD\n",
    "from pyod.models.knn import KNN"
   ]
  },
  {
   "cell_type": "markdown",
   "metadata": {},
   "source": [
    "creating a dataframe consisting of dates and amount values"
   ]
  },
  {
   "cell_type": "code",
   "execution_count": 2,
   "metadata": {
    "colab": {
     "base_uri": "https://localhost:8080/",
     "height": 204
    },
    "id": "KBWRQvGjiiX3",
    "outputId": "1d54fa14-05c9-45e4-bf36-b4c79295b574"
   },
   "outputs": [
    {
     "data": {
      "text/html": [
       "<div>\n",
       "<style scoped>\n",
       "    .dataframe tbody tr th:only-of-type {\n",
       "        vertical-align: middle;\n",
       "    }\n",
       "\n",
       "    .dataframe tbody tr th {\n",
       "        vertical-align: top;\n",
       "    }\n",
       "\n",
       "    .dataframe thead th {\n",
       "        text-align: right;\n",
       "    }\n",
       "</style>\n",
       "<table border=\"1\" class=\"dataframe\">\n",
       "  <thead>\n",
       "    <tr style=\"text-align: right;\">\n",
       "      <th></th>\n",
       "      <th>date</th>\n",
       "      <th>amount</th>\n",
       "    </tr>\n",
       "  </thead>\n",
       "  <tbody>\n",
       "    <tr>\n",
       "      <th>0</th>\n",
       "      <td>2021-05-1</td>\n",
       "      <td>45000.0</td>\n",
       "    </tr>\n",
       "    <tr>\n",
       "      <th>1</th>\n",
       "      <td>2021-05-2</td>\n",
       "      <td>70000.0</td>\n",
       "    </tr>\n",
       "    <tr>\n",
       "      <th>2</th>\n",
       "      <td>2021-05-3</td>\n",
       "      <td>250000.0</td>\n",
       "    </tr>\n",
       "    <tr>\n",
       "      <th>3</th>\n",
       "      <td>2021-05-4</td>\n",
       "      <td>70000.0</td>\n",
       "    </tr>\n",
       "    <tr>\n",
       "      <th>4</th>\n",
       "      <td>2021-05-5</td>\n",
       "      <td>45000.0</td>\n",
       "    </tr>\n",
       "  </tbody>\n",
       "</table>\n",
       "</div>"
      ],
      "text/plain": [
       "        date    amount\n",
       "0  2021-05-1   45000.0\n",
       "1  2021-05-2   70000.0\n",
       "2  2021-05-3  250000.0\n",
       "3  2021-05-4   70000.0\n",
       "4  2021-05-5   45000.0"
      ]
     },
     "execution_count": 2,
     "metadata": {},
     "output_type": "execute_result"
    }
   ],
   "source": [
    "# dataframe values\n",
    "\n",
    "data_values = [['2021-05-1', 45000.0],\n",
    "       ['2021-05-2', 70000.0],\n",
    "       ['2021-05-3', 250000.0],\n",
    "       ['2021-05-4', 70000.0],\n",
    "       ['2021-05-5', 45000.0],\n",
    "       ['2021-05-6', 55000.0],\n",
    "       ['2021-05-7', 35000.0],\n",
    "       ['2021-05-8', 60000.0],\n",
    "       ['2021-05-9', 45000.0],\n",
    "       ['2021-05-10', 25000.0],\n",
    "       ['2021-05-11', 142936.0],\n",
    "       ['2021-05-12', 138026.0],\n",
    "       ['2021-05-13', 28347.0],\n",
    "       ['2021-05-14', 40962.66],\n",
    "       ['2021-05-15', 34543.0],\n",
    "       ['2021-05-16', 40962.66],\n",
    "       ['2021-05-17', 25207.0],\n",
    "       ['2021-05-18', 37502.0],\n",
    "       ['2021-05-19', 29589.0],\n",
    "       ['2021-05-20', 78404.0],\n",
    "       ['2021-05-21', 26593.0],\n",
    "       ['2021-05-22', 123267.0],\n",
    "       ['2021-05-23', 46880.0],\n",
    "       ['2021-05-24', 65361.0],\n",
    "       ['2021-05-25', 46042.0],\n",
    "       ['2021-05-26', 48209.0],\n",
    "       ['2021-05-27', 44461.0],\n",
    "       ['2021-05-28', 90866.0],\n",
    "       ['2021-05-29', 46886.0],\n",
    "       ['2021-05-30', 33456.0],\n",
    "       ['2021-05-31', 46251.0],\n",
    "       ['2021-06-1', 29370.0],\n",
    "       ['2021-06-2', 165620.0],\n",
    "       ['2021-06-3', 20317.0]]\n",
    "       \n",
    "data = pd.DataFrame(data_values , columns=['date', 'amount'])\n",
    "data.head()"
   ]
  },
  {
   "cell_type": "markdown",
   "metadata": {
    "id": "LBdaLAaVeC8c"
   },
   "source": [
    "## Inter Quartile Range"
   ]
  },
  {
   "cell_type": "markdown",
   "metadata": {},
   "source": [
    "Let's create 2 functions\n",
    "1. **find_anomalies** - finds the anomalies in the data according to the thresholds provided"
   ]
  },
  {
   "cell_type": "code",
   "execution_count": 3,
   "metadata": {},
   "outputs": [],
   "source": [
    "def find_anomalies(value, lower_threshold, upper_threshold):\n",
    "    \n",
    "    if value < lower_threshold or value > upper_threshold:\n",
    "        return 1\n",
    "    else: return 0"
   ]
  },
  {
   "cell_type": "markdown",
   "metadata": {},
   "source": [
    "2. **iqr_anomaly_detector** \n",
    "- finds out the 25th and 75th percentile (1st and 3rd quartile)\n",
    "- interquartile range is found which is the difference between the third and first quartile\n",
    "- finding the upper and lower threshold above and below which the anomalies lie respectively"
   ]
  },
  {
   "cell_type": "code",
   "execution_count": 4,
   "metadata": {},
   "outputs": [],
   "source": [
    "def iqr_anomaly_detector(data, column='amount', threshold=1.5):\n",
    "    \n",
    "    df = data.copy()\n",
    "    quartiles = dict(data[column].quantile([.25, .50, .75]))\n",
    "    quartile_3, quartile_1 = quartiles[0.75], quartiles[0.25]\n",
    "    iqr = quartile_3 - quartile_1\n",
    "\n",
    "    lower_threshold = quartile_1 - (threshold * iqr)\n",
    "    upper_threshold = quartile_3 + (threshold * iqr)\n",
    "\n",
    "    print(f\"Lower threshold: {lower_threshold}, \\nUpper threshold: {upper_threshold}\\n\")\n",
    "    \n",
    "    df['Predictions'] = data[column].apply(find_anomalies, args=(lower_threshold, upper_threshold))\n",
    "    return df"
   ]
  },
  {
   "cell_type": "code",
   "execution_count": 5,
   "metadata": {
    "colab": {
     "base_uri": "https://localhost:8080/",
     "height": 378
    },
    "id": "4BXS9vWidOmZ",
    "outputId": "59702ff7-72be-40af-c9b9-0f135e4f847c"
   },
   "outputs": [
    {
     "name": "stdout",
     "output_type": "stream",
     "text": [
      "Lower threshold: -16617.25, \n",
      "Upper threshold: 120114.75\n",
      "\n"
     ]
    }
   ],
   "source": [
    "iqr_df = iqr_anomaly_detector(data)"
   ]
  },
  {
   "cell_type": "markdown",
   "metadata": {},
   "source": [
    "3. **plot_anomalies** - plotting the anomalies found"
   ]
  },
  {
   "cell_type": "code",
   "execution_count": 6,
   "metadata": {},
   "outputs": [],
   "source": [
    "def plot_anomalies(df, x='date', y='amount'):\n",
    "\n",
    "    # categories will be having values from 0 to n\n",
    "    # for each values in 0 to n it is mapped in colormap\n",
    "    categories = df['Predictions'].to_numpy()\n",
    "    colormap = np.array(['g', 'r'])\n",
    "\n",
    "    f = plt.figure(figsize=(12, 4))\n",
    "    f = plt.scatter(df[x], df[y], c=colormap[categories])\n",
    "    f = plt.xlabel(x)\n",
    "    f = plt.ylabel(y)\n",
    "    f = plt.xticks(rotation=90)\n",
    "    plt.show()"
   ]
  },
  {
   "cell_type": "code",
   "execution_count": 7,
   "metadata": {},
   "outputs": [
    {
     "data": {
      "image/png": "[encoded data removed]",
      "text/plain": [
       "<Figure size 864x288 with 1 Axes>"
      ]
     },
     "metadata": {
      "needs_background": "light"
     },
     "output_type": "display_data"
    }
   ],
   "source": [
    "plot_anomalies(iqr_df)"
   ]
  },
  {
   "cell_type": "markdown",
   "metadata": {},
   "source": [
    "Creating a function named **fit_model** for repeated usage\n",
    "- The fit_model function takes in model and data as input, here we are finding anomalies on the amount column.\n",
    "- After that, it reshapes the data into one-dimensional data and fits the provided model and predicts the anomalies in the data and stores it in the predictions column of the provided data frame, and returns it."
   ]
  },
  {
   "cell_type": "code",
   "execution_count": 8,
   "metadata": {
    "id": "wMWOmjtScWmf"
   },
   "outputs": [],
   "source": [
    "def fit_model(model, data, column='amount'):\n",
    "    \n",
    "    df = data.copy()\n",
    "    \n",
    "    data_to_predict = data[column].to_numpy().reshape(-1, 1)\n",
    "    predictions = model.fit_predict(data_to_predict)\n",
    "    df['Predictions'] = predictions\n",
    "    return df"
   ]
  },
  {
   "cell_type": "markdown",
   "metadata": {
    "id": "lDk5kgFIgQLS"
   },
   "source": [
    "## Isolation Forest"
   ]
  },
  {
   "cell_type": "markdown",
   "metadata": {},
   "source": [
    "- Isolation Forest is an algorithm that detects anomalies by taking a subset of data and constructing many isolation trees out of it.\n",
    "- The core idea is that the anomalies are much easier to isolate than the normal observations and the anomalies exist in much smaller depths of an isolation tree. \n",
    "- An isolation tree is constructed by randomly selecting a feature and randomly selecting a value from that feature.\n",
    "- A forest is constructed by aggregating all the isolation trees."
   ]
  },
  {
   "cell_type": "code",
   "execution_count": 9,
   "metadata": {
    "colab": {
     "base_uri": "https://localhost:8080/",
     "height": 327
    },
    "id": "it6ztePtgN7q",
    "outputId": "08e1d345-f225-4ec0-d287-cdf7ca9c5e4e"
   },
   "outputs": [],
   "source": [
    "# Let's define the Isolation Forest model with 125 isolation trees, then we pass the model, data as inputs to the \n",
    "# fit_model function, where it fits the model on the data and provides predictions to us.\n",
    "\n",
    "iso_forest = IsolationForest(n_estimators=125)\n",
    "iso_df = fit_model(iso_forest, data)"
   ]
  },
  {
   "cell_type": "code",
   "execution_count": 10,
   "metadata": {},
   "outputs": [
    {
     "data": {
      "text/html": [
       "<div>\n",
       "<style scoped>\n",
       "    .dataframe tbody tr th:only-of-type {\n",
       "        vertical-align: middle;\n",
       "    }\n",
       "\n",
       "    .dataframe tbody tr th {\n",
       "        vertical-align: top;\n",
       "    }\n",
       "\n",
       "    .dataframe thead th {\n",
       "        text-align: right;\n",
       "    }\n",
       "</style>\n",
       "<table border=\"1\" class=\"dataframe\">\n",
       "  <thead>\n",
       "    <tr style=\"text-align: right;\">\n",
       "      <th></th>\n",
       "      <th>date</th>\n",
       "      <th>amount</th>\n",
       "      <th>Predictions</th>\n",
       "    </tr>\n",
       "  </thead>\n",
       "  <tbody>\n",
       "    <tr>\n",
       "      <th>0</th>\n",
       "      <td>2021-05-1</td>\n",
       "      <td>45000.0</td>\n",
       "      <td>0</td>\n",
       "    </tr>\n",
       "    <tr>\n",
       "      <th>1</th>\n",
       "      <td>2021-05-2</td>\n",
       "      <td>70000.0</td>\n",
       "      <td>0</td>\n",
       "    </tr>\n",
       "    <tr>\n",
       "      <th>2</th>\n",
       "      <td>2021-05-3</td>\n",
       "      <td>250000.0</td>\n",
       "      <td>1</td>\n",
       "    </tr>\n",
       "    <tr>\n",
       "      <th>3</th>\n",
       "      <td>2021-05-4</td>\n",
       "      <td>70000.0</td>\n",
       "      <td>0</td>\n",
       "    </tr>\n",
       "    <tr>\n",
       "      <th>4</th>\n",
       "      <td>2021-05-5</td>\n",
       "      <td>45000.0</td>\n",
       "      <td>0</td>\n",
       "    </tr>\n",
       "  </tbody>\n",
       "</table>\n",
       "</div>"
      ],
      "text/plain": [
       "        date    amount  Predictions\n",
       "0  2021-05-1   45000.0            0\n",
       "1  2021-05-2   70000.0            0\n",
       "2  2021-05-3  250000.0            1\n",
       "3  2021-05-4   70000.0            0\n",
       "4  2021-05-5   45000.0            0"
      ]
     },
     "execution_count": 10,
     "metadata": {},
     "output_type": "execute_result"
    }
   ],
   "source": [
    "# The isolation forest assigns -1 to the anomalous data and 1 to the normal data, so for simplicity, we convert \n",
    "# the normal data prediction (1) to 0 and anomalous data prediction(-1) to 1.\n",
    "\n",
    "iso_df['Predictions'] = iso_df['Predictions'].map(lambda x: 1 if x==-1 else 0)\n",
    "iso_df.head()"
   ]
  },
  {
   "cell_type": "code",
   "execution_count": 11,
   "metadata": {},
   "outputs": [
    {
     "data": {
      "image/png": "[encoded data removed]",
      "text/plain": [
       "<Figure size 864x288 with 1 Axes>"
      ]
     },
     "metadata": {
      "needs_background": "light"
     },
     "output_type": "display_data"
    }
   ],
   "source": [
    "# plotting the anomalies predicted by Isolation Forest\n",
    "\n",
    "plot_anomalies(iso_df)"
   ]
  },
  {
   "cell_type": "code",
   "execution_count": 12,
   "metadata": {
    "colab": {
     "base_uri": "https://localhost:8080/"
    },
    "id": "ek1c-Zy-p2Qo",
    "outputId": "9b131314-8e86-48d2-a44c-3659a5726b86"
   },
   "outputs": [
    {
     "data": {
      "text/plain": [
       "array([ 0.13212103,  0.03702282, -0.30699712,  0.03702282,  0.13212103,\n",
       "        0.0375017 ,  0.08128305,  0.02760683,  0.13212103,  0.04104746,\n",
       "       -0.07200346, -0.06338086,  0.06445796,  0.08734865,  0.0835395 ,\n",
       "        0.08734865,  0.04317787,  0.06457794,  0.07527786, -0.02961929,\n",
       "        0.04071521, -0.10122755,  0.12611715,  0.01934112,  0.13120275,\n",
       "        0.09018621,  0.10771769, -0.07830535,  0.12611715,  0.06871164,\n",
       "        0.13057327,  0.07875756, -0.16881268, -0.07952242])"
      ]
     },
     "execution_count": 12,
     "metadata": {},
     "output_type": "execute_result"
    }
   ],
   "source": [
    "univariate_data = data['amount'].to_numpy().reshape(-1, 1)\n",
    "\n",
    "# These values range from -0.5 to 0.5\n",
    "anomaly_scores = iso_forest.decision_function(univariate_data)\n",
    "anomaly_scores"
   ]
  },
  {
   "cell_type": "code",
   "execution_count": 13,
   "metadata": {
    "colab": {
     "base_uri": "https://localhost:8080/",
     "height": 204
    },
    "id": "cBPzBXrxrDcf",
    "outputId": "c6594cd4-510d-4fde-e406-b6b552afb88f"
   },
   "outputs": [
    {
     "data": {
      "text/html": [
       "<div>\n",
       "<style scoped>\n",
       "    .dataframe tbody tr th:only-of-type {\n",
       "        vertical-align: middle;\n",
       "    }\n",
       "\n",
       "    .dataframe tbody tr th {\n",
       "        vertical-align: top;\n",
       "    }\n",
       "\n",
       "    .dataframe thead th {\n",
       "        text-align: right;\n",
       "    }\n",
       "</style>\n",
       "<table border=\"1\" class=\"dataframe\">\n",
       "  <thead>\n",
       "    <tr style=\"text-align: right;\">\n",
       "      <th></th>\n",
       "      <th>date</th>\n",
       "      <th>amount</th>\n",
       "      <th>Predictions</th>\n",
       "      <th>Anomaly Scores</th>\n",
       "    </tr>\n",
       "  </thead>\n",
       "  <tbody>\n",
       "    <tr>\n",
       "      <th>0</th>\n",
       "      <td>2021-05-1</td>\n",
       "      <td>45000.0</td>\n",
       "      <td>0</td>\n",
       "      <td>0.132121</td>\n",
       "    </tr>\n",
       "    <tr>\n",
       "      <th>1</th>\n",
       "      <td>2021-05-2</td>\n",
       "      <td>70000.0</td>\n",
       "      <td>0</td>\n",
       "      <td>0.037023</td>\n",
       "    </tr>\n",
       "    <tr>\n",
       "      <th>2</th>\n",
       "      <td>2021-05-3</td>\n",
       "      <td>250000.0</td>\n",
       "      <td>1</td>\n",
       "      <td>-0.306997</td>\n",
       "    </tr>\n",
       "    <tr>\n",
       "      <th>3</th>\n",
       "      <td>2021-05-4</td>\n",
       "      <td>70000.0</td>\n",
       "      <td>0</td>\n",
       "      <td>0.037023</td>\n",
       "    </tr>\n",
       "    <tr>\n",
       "      <th>4</th>\n",
       "      <td>2021-05-5</td>\n",
       "      <td>45000.0</td>\n",
       "      <td>0</td>\n",
       "      <td>0.132121</td>\n",
       "    </tr>\n",
       "  </tbody>\n",
       "</table>\n",
       "</div>"
      ],
      "text/plain": [
       "        date    amount  Predictions  Anomaly Scores\n",
       "0  2021-05-1   45000.0            0        0.132121\n",
       "1  2021-05-2   70000.0            0        0.037023\n",
       "2  2021-05-3  250000.0            1       -0.306997\n",
       "3  2021-05-4   70000.0            0        0.037023\n",
       "4  2021-05-5   45000.0            0        0.132121"
      ]
     },
     "execution_count": 13,
     "metadata": {},
     "output_type": "execute_result"
    }
   ],
   "source": [
    "iso_df['Anomaly Scores'] = anomaly_scores\n",
    "iso_df.head()"
   ]
  },
  {
   "cell_type": "code",
   "execution_count": 14,
   "metadata": {
    "id": "tEWBglOzqZsp"
   },
   "outputs": [],
   "source": [
    "# Changing (-0.5, 0.5) to (0, 1)\n",
    "\n",
    "def scale_anomaly_scores(s):\n",
    "    a, b = (-0.5, 0.5), (1, 0)\n",
    "    (a1, a2), (b1, b2) = a, b\n",
    "    return (b1 + ((s - a1) * (b2 - b1) / (a2 - a1))) * 100"
   ]
  },
  {
   "cell_type": "code",
   "execution_count": 15,
   "metadata": {
    "id": "g6nh6kJgqiwJ"
   },
   "outputs": [],
   "source": [
    "# Scale it between 1 and 100\n",
    "scaled_scores = pd.Series(anomaly_scores).map(scale_anomaly_scores).to_numpy()"
   ]
  },
  {
   "cell_type": "code",
   "execution_count": 16,
   "metadata": {
    "colab": {
     "base_uri": "https://localhost:8080/",
     "height": 204
    },
    "id": "dfEWtmTqrX9w",
    "outputId": "ec1e86f0-aab1-4b89-99fa-507681fbc278"
   },
   "outputs": [
    {
     "data": {
      "text/html": [
       "<div>\n",
       "<style scoped>\n",
       "    .dataframe tbody tr th:only-of-type {\n",
       "        vertical-align: middle;\n",
       "    }\n",
       "\n",
       "    .dataframe tbody tr th {\n",
       "        vertical-align: top;\n",
       "    }\n",
       "\n",
       "    .dataframe thead th {\n",
       "        text-align: right;\n",
       "    }\n",
       "</style>\n",
       "<table border=\"1\" class=\"dataframe\">\n",
       "  <thead>\n",
       "    <tr style=\"text-align: right;\">\n",
       "      <th></th>\n",
       "      <th>date</th>\n",
       "      <th>amount</th>\n",
       "      <th>Predictions</th>\n",
       "      <th>Anomaly Scores</th>\n",
       "      <th>Scaled Scores</th>\n",
       "    </tr>\n",
       "  </thead>\n",
       "  <tbody>\n",
       "    <tr>\n",
       "      <th>0</th>\n",
       "      <td>2021-05-1</td>\n",
       "      <td>45000.0</td>\n",
       "      <td>0</td>\n",
       "      <td>0.132121</td>\n",
       "      <td>36.787897</td>\n",
       "    </tr>\n",
       "    <tr>\n",
       "      <th>1</th>\n",
       "      <td>2021-05-2</td>\n",
       "      <td>70000.0</td>\n",
       "      <td>0</td>\n",
       "      <td>0.037023</td>\n",
       "      <td>46.297718</td>\n",
       "    </tr>\n",
       "    <tr>\n",
       "      <th>2</th>\n",
       "      <td>2021-05-3</td>\n",
       "      <td>250000.0</td>\n",
       "      <td>1</td>\n",
       "      <td>-0.306997</td>\n",
       "      <td>80.699712</td>\n",
       "    </tr>\n",
       "    <tr>\n",
       "      <th>3</th>\n",
       "      <td>2021-05-4</td>\n",
       "      <td>70000.0</td>\n",
       "      <td>0</td>\n",
       "      <td>0.037023</td>\n",
       "      <td>46.297718</td>\n",
       "    </tr>\n",
       "    <tr>\n",
       "      <th>4</th>\n",
       "      <td>2021-05-5</td>\n",
       "      <td>45000.0</td>\n",
       "      <td>0</td>\n",
       "      <td>0.132121</td>\n",
       "      <td>36.787897</td>\n",
       "    </tr>\n",
       "  </tbody>\n",
       "</table>\n",
       "</div>"
      ],
      "text/plain": [
       "        date    amount  Predictions  Anomaly Scores  Scaled Scores\n",
       "0  2021-05-1   45000.0            0        0.132121      36.787897\n",
       "1  2021-05-2   70000.0            0        0.037023      46.297718\n",
       "2  2021-05-3  250000.0            1       -0.306997      80.699712\n",
       "3  2021-05-4   70000.0            0        0.037023      46.297718\n",
       "4  2021-05-5   45000.0            0        0.132121      36.787897"
      ]
     },
     "execution_count": 16,
     "metadata": {},
     "output_type": "execute_result"
    }
   ],
   "source": [
    "iso_df['Scaled Scores'] = scaled_scores\n",
    "iso_df.head()"
   ]
  },
  {
   "cell_type": "markdown",
   "metadata": {},
   "source": [
    "# Median Absolute Deviation"
   ]
  },
  {
   "cell_type": "markdown",
   "metadata": {},
   "source": [
    "- Median Absolute Deviation is the difference between each observation and the median of those observations. \n",
    "- An observation that deviates more from the rest of the observation is considered to be an anomaly."
   ]
  },
  {
   "cell_type": "markdown",
   "metadata": {},
   "source": [
    "The computation of mean is highly influenced by the outliers and a mean value would be spurious if there are outliers in data. Hence, we have choosen median."
   ]
  },
  {
   "cell_type": "code",
   "execution_count": 17,
   "metadata": {
    "colab": {
     "base_uri": "https://localhost:8080/",
     "height": 327
    },
    "id": "XcBgqs-PgNyk",
    "outputId": "c1e9a79f-6c87-4a2a-d94e-557799fc2f5f"
   },
   "outputs": [
    {
     "name": "stderr",
     "output_type": "stream",
     "text": [
      "C:\\Users\\K.KALYANKUMAR\\Downloads\\Anaconda\\lib\\site-packages\\sklearn\\utils\\deprecation.py:86: FutureWarning: Function fit_predict is deprecated\n",
      "  warnings.warn(msg, category=FutureWarning)\n"
     ]
    }
   ],
   "source": [
    "# Let's define the Median Absolute Deviation model, then we pass the model, data as inputs to the fit_model function,\n",
    "# where it fits the model on the data and provides predictions to us.\n",
    "\n",
    "mad_model = MAD()\n",
    "mad_df = fit_model(mad_model, data)"
   ]
  },
  {
   "cell_type": "code",
   "execution_count": 18,
   "metadata": {},
   "outputs": [
    {
     "data": {
      "image/png": "[encoded data removed]",
      "text/plain": [
       "<Figure size 864x288 with 1 Axes>"
      ]
     },
     "metadata": {
      "needs_background": "light"
     },
     "output_type": "display_data"
    }
   ],
   "source": [
    "# plotting the anomalies predicted by MAD model.\n",
    "\n",
    "plot_anomalies(mad_df)"
   ]
  },
  {
   "cell_type": "code",
   "execution_count": 19,
   "metadata": {
    "id": "zjj9UiD7rpBv"
   },
   "outputs": [],
   "source": [
    "def get_anomaly_scores(model):\n",
    "    anomaly_scores = model.decision_scores_\n",
    "    threshold = model.threshold_\n",
    "    return anomaly_scores, threshold"
   ]
  },
  {
   "cell_type": "code",
   "execution_count": 20,
   "metadata": {
    "colab": {
     "base_uri": "https://localhost:8080/"
    },
    "id": "zINya27BqvQn",
    "outputId": "76791c86-21b6-4d92-cba7-077ce4bd4b5e"
   },
   "outputs": [
    {
     "name": "stdout",
     "output_type": "stream",
     "text": [
      "Anomaly Scores: [0.02311101 1.08586271 9.07047355 1.08586271 0.02311101 0.42047848\n",
      " 0.4667005  0.64227322 0.02311101 0.91028999 4.32122702 4.10342458\n",
      " 0.76182059 0.20220317 0.48697254 0.20220317 0.90110769 0.35571441\n",
      " 0.70672678 1.45865532 0.83962619 3.44873085 0.06028381 0.88008155\n",
      " 0.02311101 0.11923686 0.04702049 2.01145655 0.06054997 0.53519072\n",
      " 0.03238203 0.71644139 5.32746542 1.11802295], \n",
      "Threshold: 3.5\n"
     ]
    }
   ],
   "source": [
    "anomaly_scores, threshold = get_anomaly_scores(mad_model)\n",
    "print(f\"Anomaly Scores: {anomaly_scores}, \\nThreshold: {threshold}\")"
   ]
  },
  {
   "cell_type": "code",
   "execution_count": 21,
   "metadata": {
    "colab": {
     "base_uri": "https://localhost:8080/",
     "height": 204
    },
    "id": "i6rfJF9YsDG1",
    "outputId": "a5f760e1-3002-4ada-a808-2667bf54c5d1"
   },
   "outputs": [
    {
     "data": {
      "text/html": [
       "<div>\n",
       "<style scoped>\n",
       "    .dataframe tbody tr th:only-of-type {\n",
       "        vertical-align: middle;\n",
       "    }\n",
       "\n",
       "    .dataframe tbody tr th {\n",
       "        vertical-align: top;\n",
       "    }\n",
       "\n",
       "    .dataframe thead th {\n",
       "        text-align: right;\n",
       "    }\n",
       "</style>\n",
       "<table border=\"1\" class=\"dataframe\">\n",
       "  <thead>\n",
       "    <tr style=\"text-align: right;\">\n",
       "      <th></th>\n",
       "      <th>date</th>\n",
       "      <th>amount</th>\n",
       "      <th>Predictions</th>\n",
       "      <th>Anomaly Scores</th>\n",
       "    </tr>\n",
       "  </thead>\n",
       "  <tbody>\n",
       "    <tr>\n",
       "      <th>0</th>\n",
       "      <td>2021-05-1</td>\n",
       "      <td>45000.0</td>\n",
       "      <td>0</td>\n",
       "      <td>0.023111</td>\n",
       "    </tr>\n",
       "    <tr>\n",
       "      <th>1</th>\n",
       "      <td>2021-05-2</td>\n",
       "      <td>70000.0</td>\n",
       "      <td>0</td>\n",
       "      <td>1.085863</td>\n",
       "    </tr>\n",
       "    <tr>\n",
       "      <th>2</th>\n",
       "      <td>2021-05-3</td>\n",
       "      <td>250000.0</td>\n",
       "      <td>1</td>\n",
       "      <td>9.070474</td>\n",
       "    </tr>\n",
       "    <tr>\n",
       "      <th>3</th>\n",
       "      <td>2021-05-4</td>\n",
       "      <td>70000.0</td>\n",
       "      <td>0</td>\n",
       "      <td>1.085863</td>\n",
       "    </tr>\n",
       "    <tr>\n",
       "      <th>4</th>\n",
       "      <td>2021-05-5</td>\n",
       "      <td>45000.0</td>\n",
       "      <td>0</td>\n",
       "      <td>0.023111</td>\n",
       "    </tr>\n",
       "  </tbody>\n",
       "</table>\n",
       "</div>"
      ],
      "text/plain": [
       "        date    amount  Predictions  Anomaly Scores\n",
       "0  2021-05-1   45000.0            0        0.023111\n",
       "1  2021-05-2   70000.0            0        1.085863\n",
       "2  2021-05-3  250000.0            1        9.070474\n",
       "3  2021-05-4   70000.0            0        1.085863\n",
       "4  2021-05-5   45000.0            0        0.023111"
      ]
     },
     "execution_count": 21,
     "metadata": {},
     "output_type": "execute_result"
    }
   ],
   "source": [
    "mad_df['Anomaly Scores'] = anomaly_scores\n",
    "mad_df.head()"
   ]
  },
  {
   "cell_type": "markdown",
   "metadata": {
    "id": "5_T8vktTkfyL"
   },
   "source": [
    "# K-Nearest Neighbours Model"
   ]
  },
  {
   "cell_type": "markdown",
   "metadata": {},
   "source": [
    "- K-Nearest Neighbours algorithm detects anomalies using the distances of k-nearest neighbors as anomaly scores. \n",
    "- The idea is that if an observation is much far from the other observations then that observation is considered to be an anomaly."
   ]
  },
  {
   "cell_type": "code",
   "execution_count": 22,
   "metadata": {
    "colab": {
     "base_uri": "https://localhost:8080/",
     "height": 327
    },
    "id": "0U7vmb4bgNsU",
    "outputId": "f49c24f5-056c-45aa-e4fc-c1a6b14a92d1"
   },
   "outputs": [
    {
     "name": "stderr",
     "output_type": "stream",
     "text": [
      "C:\\Users\\K.KALYANKUMAR\\Downloads\\Anaconda\\lib\\site-packages\\sklearn\\utils\\deprecation.py:86: FutureWarning: Function fit_predict is deprecated\n",
      "  warnings.warn(msg, category=FutureWarning)\n"
     ]
    }
   ],
   "source": [
    "# Let's define the K-Nearest Neighbour model, then we pass the model with data as inputs to the fit_model function, \n",
    "# where it fits the model on the data and provides predictions to us.\n",
    "\n",
    "knn_model = KNN()\n",
    "knn_df = fit_model(knn_model, data)"
   ]
  },
  {
   "cell_type": "code",
   "execution_count": 23,
   "metadata": {},
   "outputs": [
    {
     "data": {
      "image/png": "[encoded data removed]",
      "text/plain": [
       "<Figure size 864x288 with 1 Axes>"
      ]
     },
     "metadata": {
      "needs_background": "light"
     },
     "output_type": "display_data"
    }
   ],
   "source": [
    "# plotting the anomalies predicted by the KNN model.\n",
    "\n",
    "plot_anomalies(knn_df)"
   ]
  },
  {
   "cell_type": "code",
   "execution_count": 24,
   "metadata": {
    "colab": {
     "base_uri": "https://localhost:8080/"
    },
    "id": "QvjaK5y9rrCf",
    "outputId": "2f0cfef5-dab5-42ed-d895-7344a4359892"
   },
   "outputs": [
    {
     "name": "stdout",
     "output_type": "stream",
     "text": [
      "Anomaly Scores: [  1251.    15000.   159134.    15000.     1251.     8749.     5630.\n",
      "  11791.     1251.     4589.    64532.    59622.     3347.     4037.34\n",
      "   5173.     4037.34   4382.     4046.     4382.    18404.     2996.\n",
      "  44863.     1880.    13043.     1042.     3209.     1790.    30866.\n",
      "   1886.     4086.     1251.     4163.    84380.     9053.  ], \n",
      "Threshold: 55194.29999999999\n"
     ]
    }
   ],
   "source": [
    "anomaly_scores, threshold = get_anomaly_scores(knn_model)\n",
    "print(f\"Anomaly Scores: {anomaly_scores}, \\nThreshold: {threshold}\")"
   ]
  },
  {
   "cell_type": "code",
   "execution_count": 25,
   "metadata": {
    "colab": {
     "base_uri": "https://localhost:8080/",
     "height": 204
    },
    "id": "Iy9JugdqsgY2",
    "outputId": "dd0dccd1-5c3c-4517-c2ea-0343f97e4844"
   },
   "outputs": [
    {
     "data": {
      "text/html": [
       "<div>\n",
       "<style scoped>\n",
       "    .dataframe tbody tr th:only-of-type {\n",
       "        vertical-align: middle;\n",
       "    }\n",
       "\n",
       "    .dataframe tbody tr th {\n",
       "        vertical-align: top;\n",
       "    }\n",
       "\n",
       "    .dataframe thead th {\n",
       "        text-align: right;\n",
       "    }\n",
       "</style>\n",
       "<table border=\"1\" class=\"dataframe\">\n",
       "  <thead>\n",
       "    <tr style=\"text-align: right;\">\n",
       "      <th></th>\n",
       "      <th>date</th>\n",
       "      <th>amount</th>\n",
       "      <th>Predictions</th>\n",
       "      <th>Anomaly Scores</th>\n",
       "    </tr>\n",
       "  </thead>\n",
       "  <tbody>\n",
       "    <tr>\n",
       "      <th>0</th>\n",
       "      <td>2021-05-1</td>\n",
       "      <td>45000.0</td>\n",
       "      <td>0</td>\n",
       "      <td>1251.0</td>\n",
       "    </tr>\n",
       "    <tr>\n",
       "      <th>1</th>\n",
       "      <td>2021-05-2</td>\n",
       "      <td>70000.0</td>\n",
       "      <td>0</td>\n",
       "      <td>15000.0</td>\n",
       "    </tr>\n",
       "    <tr>\n",
       "      <th>2</th>\n",
       "      <td>2021-05-3</td>\n",
       "      <td>250000.0</td>\n",
       "      <td>1</td>\n",
       "      <td>159134.0</td>\n",
       "    </tr>\n",
       "    <tr>\n",
       "      <th>3</th>\n",
       "      <td>2021-05-4</td>\n",
       "      <td>70000.0</td>\n",
       "      <td>0</td>\n",
       "      <td>15000.0</td>\n",
       "    </tr>\n",
       "    <tr>\n",
       "      <th>4</th>\n",
       "      <td>2021-05-5</td>\n",
       "      <td>45000.0</td>\n",
       "      <td>0</td>\n",
       "      <td>1251.0</td>\n",
       "    </tr>\n",
       "  </tbody>\n",
       "</table>\n",
       "</div>"
      ],
      "text/plain": [
       "        date    amount  Predictions  Anomaly Scores\n",
       "0  2021-05-1   45000.0            0          1251.0\n",
       "1  2021-05-2   70000.0            0         15000.0\n",
       "2  2021-05-3  250000.0            1        159134.0\n",
       "3  2021-05-4   70000.0            0         15000.0\n",
       "4  2021-05-5   45000.0            0          1251.0"
      ]
     },
     "execution_count": 25,
     "metadata": {},
     "output_type": "execute_result"
    }
   ],
   "source": [
    "knn_df['Anomaly Scores'] = anomaly_scores\n",
    "knn_df.head()"
   ]
  },
  {
   "cell_type": "code",
   "execution_count": 26,
   "metadata": {
    "colab": {
     "base_uri": "https://localhost:8080/"
    },
    "id": "HDGzD7xTr01X",
    "outputId": "541c6bb5-c25e-4ba0-bba0-ee7ad6196e24"
   },
   "outputs": [
    {
     "data": {
      "text/plain": [
       "55194.29999999999"
      ]
     },
     "execution_count": 26,
     "metadata": {},
     "output_type": "execute_result"
    }
   ],
   "source": [
    "# Threshold computation\n",
    "pd.Series(anomaly_scores).quantile(.90)"
   ]
  },
  {
   "cell_type": "code",
   "execution_count": null,
   "metadata": {},
   "outputs": [],
   "source": []
  }
 ],
 "metadata": {
  "colab": {
   "name": "Univariate Anomaly Detection.ipynb",
   "provenance": []
  },
  "kernelspec": {
   "display_name": "Python 3",
   "language": "python",
   "name": "python3"
  },
  "language_info": {
   "codemirror_mode": {
    "name": "ipython",
    "version": 3
   },
   "file_extension": ".py",
   "mimetype": "text/x-python",
   "name": "python",
   "nbconvert_exporter": "python",
   "pygments_lexer": "ipython3",
   "version": "3.8.5"
  }
 },
 "nbformat": 4,
 "nbformat_minor": 1
}
